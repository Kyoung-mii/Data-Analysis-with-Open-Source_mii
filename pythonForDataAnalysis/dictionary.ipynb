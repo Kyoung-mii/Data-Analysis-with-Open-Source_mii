{
  "nbformat": 4,
  "nbformat_minor": 0,
  "metadata": {
    "colab": {
      "provenance": [],
      "authorship_tag": "ABX9TyMgXuLI/Ye1/+OwiJoOJrBx",
      "include_colab_link": true
    },
    "kernelspec": {
      "name": "python3",
      "display_name": "Python 3"
    },
    "language_info": {
      "name": "python"
    }
  },
  "cells": [
    {
      "cell_type": "markdown",
      "metadata": {
        "id": "view-in-github",
        "colab_type": "text"
      },
      "source": [
        "<a href=\"https://colab.research.google.com/github/Kyoung-mii/Data-Analysis-with-Open-Source_mii/blob/main/pythonForDataAnalysis/dictionary.ipynb\" target=\"_parent\"><img src=\"https://colab.research.google.com/assets/colab-badge.svg\" alt=\"Open In Colab\"/></a>"
      ]
    },
    {
      "cell_type": "markdown",
      "source": [
        "# Dictionary comprehension\n",
        "* 키-값 쌍으로 이루어진 데이터 구조를 생성하는데 최적화.\n",
        "\n",
        "\n",
        "```\n",
        "{키: 값 for 변수 in 반복가능객체}\n",
        "{키: 값 for 변수 in 반복가능객체 if 조건}\n",
        "```\n",
        "\n"
      ],
      "metadata": {
        "id": "uXRSzW_nj9Jb"
      }
    },
    {
      "cell_type": "markdown",
      "source": [
        "## 코드 2-14 : 일반적인 반복문을 사용한 방법"
      ],
      "metadata": {
        "id": "qEK_597Lk7PP"
      }
    },
    {
      "cell_type": "code",
      "execution_count": 1,
      "metadata": {
        "id": "-m8sHKEqiZJR",
        "colab": {
          "base_uri": "https://localhost:8080/"
        },
        "outputId": "8b98001e-1a64-4f4b-af74-52731a198442"
      },
      "outputs": [
        {
          "output_type": "stream",
          "name": "stdout",
          "text": [
            "{0: 0, 1: 1, 2: 4, 3: 9, 4: 16}\n"
          ]
        }
      ],
      "source": [
        "squares = {}\n",
        "for i in range(5):\n",
        "    squares[i] = i ** 2\n",
        "\n",
        "print(squares)"
      ]
    },
    {
      "cell_type": "markdown",
      "source": [
        "## 코드 2-15 : dictionary comprehension을 사용한 방법"
      ],
      "metadata": {
        "id": "Rb1ljaSFlVvy"
      }
    },
    {
      "cell_type": "code",
      "source": [
        "squares = {i : i ** 2 for i in range(5)}\n",
        "print(squares)"
      ],
      "metadata": {
        "colab": {
          "base_uri": "https://localhost:8080/"
        },
        "id": "aQGKC788lVOx",
        "outputId": "b2f159fe-2104-4a9b-a752-528a4167295f"
      },
      "execution_count": 2,
      "outputs": [
        {
          "output_type": "stream",
          "name": "stdout",
          "text": [
            "{0: 0, 1: 1, 2: 4, 3: 9, 4: 16}\n"
          ]
        }
      ]
    },
    {
      "cell_type": "markdown",
      "source": [
        "## 코드 2-16 : 특정 조건을 적용한 방법\n",
        "특정 조건을 만족하는 요소만 선택하여 새로운 dictionary를 생성."
      ],
      "metadata": {
        "id": "leXS-2YglxI3"
      }
    },
    {
      "cell_type": "code",
      "source": [
        "even_squares = {num : num ** 2 for num in range(10) if num % 2 == 0}\n",
        "print(even_squares)"
      ],
      "metadata": {
        "colab": {
          "base_uri": "https://localhost:8080/"
        },
        "id": "_CZyOYQ6mN1A",
        "outputId": "192b5085-3992-4cbd-f613-a9067a0df954"
      },
      "execution_count": 4,
      "outputs": [
        {
          "output_type": "stream",
          "name": "stdout",
          "text": [
            "{0: 0, 2: 4, 4: 16, 6: 36, 8: 64}\n"
          ]
        }
      ]
    },
    {
      "cell_type": "markdown",
      "source": [
        "## 코드2-17 : 다양한 조건을 사용한 데이터 필터링\n",
        "* items() 메서드는 dictionary의 각 항목을 (키,값) 튜플의 리스트로 반환"
      ],
      "metadata": {
        "id": "xsFpYoUWl9Sc"
      }
    },
    {
      "cell_type": "code",
      "source": [
        "city_population = {'서울':957, '부산':339, '인천':297, '대구':242, '광주':145,\n",
        "                   '대전':147, '울산':114, '세종':36, '수원':115, '창원':103,\n",
        "                   '고양':105, '용인':108, '성남':94}\n",
        "large_cities = {city: pop for city, pop in city_population.items() if pop >=200}\n",
        "print('인구 200만 명 이상인 도시 :', large_cities)\n",
        "large_short_name_cities = {city:pop for city,pop in city_population.items()\n",
        "                            if pop >=300 and '산' in city}\n",
        "print('인구 300만 명 이상의 \\'산\\' 글자가 포함된 도시:', large_short_name_cities)"
      ],
      "metadata": {
        "colab": {
          "base_uri": "https://localhost:8080/"
        },
        "id": "sidrYIHwm6np",
        "outputId": "3f4afd02-3255-49d1-e4aa-aeea98d6fdf8"
      },
      "execution_count": 10,
      "outputs": [
        {
          "output_type": "stream",
          "name": "stdout",
          "text": [
            "인구 200만 명 이상인 도시 : {'서울': 957, '부산': 339, '인천': 297, '대구': 242}\n",
            "인구 300만 명 이상의 '산' 글자가 포함된 도시: {'부산': 339}\n"
          ]
        }
      ]
    },
    {
      "cell_type": "markdown",
      "source": [
        "## 코드 2-18 : 일반적인 dictionary값 변경"
      ],
      "metadata": {
        "id": "y_Elp8FGpO-F"
      }
    },
    {
      "cell_type": "code",
      "source": [
        "scores = {'김철수':45, '이영희':38, '박지성':49, '최민수':30, '정수정':42}\n",
        "percentage_scores_old = {}\n",
        "for name, score in scores.items():\n",
        "    percentage_scores_old[name]=(score / 50) * 100\n",
        "\n",
        "print('기존 방식 결과:', percentage_scores_old)"
      ],
      "metadata": {
        "colab": {
          "base_uri": "https://localhost:8080/"
        },
        "id": "DxqNTxMFpVyf",
        "outputId": "1b7baf71-f81c-4927-fc4f-fac951b30697"
      },
      "execution_count": 7,
      "outputs": [
        {
          "output_type": "stream",
          "name": "stdout",
          "text": [
            "기존 방식 결과: {'김철수': 90.0, '이영희': 76.0, '박지성': 98.0, '최민수': 60.0, '정수정': 84.0}\n"
          ]
        }
      ]
    },
    {
      "cell_type": "markdown",
      "source": [
        "## 코드 2-19 : dictionary comprehension을 이용한 값 변경"
      ],
      "metadata": {
        "id": "PEIoDeZiqJn_"
      }
    },
    {
      "cell_type": "code",
      "source": [
        "scores = {'김철수':45, '이영희':38, '박지성':49, '최민수':30, '정수정':42}\n",
        "percentage_scores_old ={name : (score / 50) * 100 for name, score in scores.items()}\n",
        "print('dictionary comprehension 결과 :', percentage_scores_old)"
      ],
      "metadata": {
        "colab": {
          "base_uri": "https://localhost:8080/"
        },
        "id": "PlI8lfIlqRf4",
        "outputId": "4bd3e3d6-fd47-46dd-a184-ba6fb6503e73"
      },
      "execution_count": 9,
      "outputs": [
        {
          "output_type": "stream",
          "name": "stdout",
          "text": [
            "dictionary comprehension 결과 : {'김철수': 90.0, '이영희': 76.0, '박지성': 98.0, '최민수': 60.0, '정수정': 84.0}\n"
          ]
        }
      ]
    }
  ]
}