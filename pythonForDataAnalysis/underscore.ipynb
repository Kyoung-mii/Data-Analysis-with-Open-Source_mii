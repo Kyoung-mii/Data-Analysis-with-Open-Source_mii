{
  "nbformat": 4,
  "nbformat_minor": 0,
  "metadata": {
    "colab": {
      "provenance": [],
      "authorship_tag": "ABX9TyMvtNpRI9/QWfNOmhX5vSiO",
      "include_colab_link": true
    },
    "kernelspec": {
      "name": "python3",
      "display_name": "Python 3"
    },
    "language_info": {
      "name": "python"
    }
  },
  "cells": [
    {
      "cell_type": "markdown",
      "metadata": {
        "id": "view-in-github",
        "colab_type": "text"
      },
      "source": [
        "<a href=\"https://colab.research.google.com/github/Kyoung-mii/Data-Analysis-with-Open-Source_mii/blob/main/pythonForDataAnalysis/underscore.ipynb\" target=\"_parent\"><img src=\"https://colab.research.google.com/assets/colab-badge.svg\" alt=\"Open In Colab\"/></a>"
      ]
    },
    {
      "cell_type": "markdown",
      "source": [
        "# 언더스코어\n",
        "* for 문에서 반복 변수의 값이 필요하지 않을 때 이를 대체하는 역할\n",
        "* 함수가 여러개의 값을 반환할 때 일부 값만 필요하고 나머지는 무시해야 하는 경우"
      ],
      "metadata": {
        "id": "P-SThPwOu_Ys"
      }
    },
    {
      "cell_type": "markdown",
      "source": [
        "## 코드 2-32 : for문에서 언더스코어 활용"
      ],
      "metadata": {
        "id": "ybgO1jkbvQ70"
      }
    },
    {
      "cell_type": "code",
      "execution_count": 1,
      "metadata": {
        "id": "-m8sHKEqiZJR",
        "outputId": "b94d0711-5450-4604-b944-56a738e9800f",
        "colab": {
          "base_uri": "https://localhost:8080/"
        }
      },
      "outputs": [
        {
          "output_type": "stream",
          "name": "stdout",
          "text": [
            "Hello, Data Analysis with Open Source!\n",
            "Hello, Data Analysis with Open Source!\n",
            "Hello, Data Analysis with Open Source!\n",
            "Hello, Data Analysis with Open Source!\n",
            "Hello, Data Analysis with Open Source!\n"
          ]
        }
      ],
      "source": [
        "for _ in range(5):\n",
        "    print('Hello, Data Analysis with Open Source!')"
      ]
    },
    {
      "cell_type": "markdown",
      "source": [
        "## 코드 2-33 : 언더스코어의 사용 예(1)"
      ],
      "metadata": {
        "id": "GhPK_HtoviXZ"
      }
    },
    {
      "cell_type": "code",
      "source": [
        "students = [\n",
        "    (20251234, '김철수', '컴퓨터과학', 2, 3.8),\n",
        "    (20265678, '이명희', '생활과학부', 3, 4.2),\n",
        "    (20243456, '김철수', '컴퓨터과학', 1, 3.5)\n",
        "]\n",
        "print('이름과 성적 출력 :')\n",
        "for _, name, _, _, grade in students:\n",
        "    print(f'{name}의 성적: {grade}')"
      ],
      "metadata": {
        "id": "BpiPgblDvpN9",
        "outputId": "9303d3b0-f18d-483a-bf8f-6c927de25d83",
        "colab": {
          "base_uri": "https://localhost:8080/"
        }
      },
      "execution_count": 2,
      "outputs": [
        {
          "output_type": "stream",
          "name": "stdout",
          "text": [
            "이름과 성적 출력 :\n",
            "김철수의 성적: 3.8\n",
            "이명희의 성적: 4.2\n",
            "김철수의 성적: 3.5\n"
          ]
        }
      ]
    },
    {
      "cell_type": "markdown",
      "source": [
        "## 코드 2-34 : 언더스코어 사용 예(2)"
      ],
      "metadata": {
        "id": "8sF_NIsPxkxB"
      }
    },
    {
      "cell_type": "code",
      "source": [
        "def get_coordinates():\n",
        "    return (10, 20, 30)\n",
        "\n",
        "_, y, _ = get_coordinates()\n",
        "print(y)"
      ],
      "metadata": {
        "id": "uSLCBaglxrta",
        "outputId": "602bbebb-fa0b-4631-c5bf-1617ade38611",
        "colab": {
          "base_uri": "https://localhost:8080/"
        }
      },
      "execution_count": 3,
      "outputs": [
        {
          "output_type": "stream",
          "name": "stdout",
          "text": [
            "20\n"
          ]
        }
      ]
    }
  ]
}