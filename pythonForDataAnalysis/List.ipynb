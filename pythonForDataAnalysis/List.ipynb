{
  "nbformat": 4,
  "nbformat_minor": 0,
  "metadata": {
    "colab": {
      "provenance": [],
      "toc_visible": true,
      "authorship_tag": "ABX9TyN1afajOYKAsEIjrIzIYj09",
      "include_colab_link": true
    },
    "kernelspec": {
      "name": "python3",
      "display_name": "Python 3"
    },
    "language_info": {
      "name": "python"
    }
  },
  "cells": [
    {
      "cell_type": "markdown",
      "metadata": {
        "id": "view-in-github",
        "colab_type": "text"
      },
      "source": [
        "<a href=\"https://colab.research.google.com/github/Kyoung-mii/Data-Analysis-with-Open-Source_mii/blob/main/pythonForDataAnalysis/List.ipynb\" target=\"_parent\"><img src=\"https://colab.research.google.com/assets/colab-badge.svg\" alt=\"Open In Colab\"/></a>"
      ]
    },
    {
      "cell_type": "markdown",
      "source": [
        "# 리스트\n",
        "* 데이터를 저장하고 조작하는 가장 기본적인 자료 구조.\n",
        "\n",
        "# 리스트 슬라이싱\n",
        "* 리스트의 일부분만을 선택, 추출하여 사용하는 기술\n",
        "\n",
        "```\n",
        "리스트이름[시작 인덱스:끝 인덱스:간격]\n",
        "```\n",
        "* 시작 인덱스 : 기본값 0. 슬라이싱을 시작할 위치\n",
        "* 끝 인덱스 : 종료할 위치. 끝 인덱스에 해당하는 원소는 결과에 포함하지 않는다.\n",
        "* 간격 : 기본값 1. 원소를 건너뛰는 간격\n"
      ],
      "metadata": {
        "id": "Ud6Q_UHhUuSj"
      }
    },
    {
      "cell_type": "markdown",
      "source": [
        "## 코드 2-1 : 리스트에서 특정 범위요수 추출\n",
        "numbers[0:3]은 list의 0번 인덱스부터 2번 인덱스 까지의 요소를 선택"
      ],
      "metadata": {
        "id": "A5wFiA7vWMqj"
      }
    },
    {
      "cell_type": "code",
      "execution_count": 1,
      "metadata": {
        "id": "wSEG_Ru7lOg8",
        "colab": {
          "base_uri": "https://localhost:8080/"
        },
        "outputId": "db99ccec-f5b3-4b31-dede-a23aadaaf03b"
      },
      "outputs": [
        {
          "output_type": "stream",
          "name": "stdout",
          "text": [
            "[10, 20, 30]\n"
          ]
        }
      ],
      "source": [
        "numbers = [10, 20, 30, 40, 50, 60, 70]\n",
        "subset1 = numbers[0:3]\n",
        "print(subset1)"
      ]
    },
    {
      "cell_type": "markdown",
      "source": [
        "## 코드 2-2 : list에서 특정 범위 요소 추출"
      ],
      "metadata": {
        "id": "nD-LvPunWy5p"
      }
    },
    {
      "cell_type": "code",
      "source": [
        "numbers = [10,20,30,40,50,60,70]\n",
        "\n",
        "# 처음부터 3번 인덱스 까지 추출 [0:4]\n",
        "first_four = numbers[:4]\n",
        "print(first_four)\n",
        "\n",
        "# 끝에서 3번째 인덱스부터 마지막 요소까지 추출 [-3:7]\n",
        "last_three = numbers[-3:]\n",
        "print(last_three)"
      ],
      "metadata": {
        "colab": {
          "base_uri": "https://localhost:8080/"
        },
        "id": "03-XOgUcW50n",
        "outputId": "b6b0205d-a775-4eb7-d8ca-19555ec4e248"
      },
      "execution_count": 4,
      "outputs": [
        {
          "output_type": "stream",
          "name": "stdout",
          "text": [
            "[10, 20, 30, 40]\n",
            "[50, 60, 70]\n"
          ]
        }
      ]
    },
    {
      "cell_type": "markdown",
      "source": [
        "## 코드 2-3 : 간격을 활용한 리스트 슬라이싱"
      ],
      "metadata": {
        "id": "73JNsHqcUrie"
      }
    },
    {
      "cell_type": "code",
      "source": [
        "numbers = [10, 20, 30, 40, 50, 60, 70]\n",
        "\n",
        "# 한칸씩 건너뛰며 요소를 선택\n",
        "every_other_list = numbers[::2]\n",
        "print(every_other_list)\n",
        "\n",
        "# 역순으로 출력\n",
        "reverse_list = numbers[::-1]\n",
        "print(reverse_list)"
      ],
      "metadata": {
        "colab": {
          "base_uri": "https://localhost:8080/"
        },
        "id": "JQwLQobwXtvR",
        "outputId": "a2b4b40d-fa41-4a23-c689-872a19ebbe23"
      },
      "execution_count": 5,
      "outputs": [
        {
          "output_type": "stream",
          "name": "stdout",
          "text": [
            "[10, 30, 50, 70]\n",
            "[70, 60, 50, 40, 30, 20, 10]\n"
          ]
        }
      ]
    },
    {
      "cell_type": "markdown",
      "source": [
        "## 코드 2-4 : 다차원 리스트 슬라이싱"
      ],
      "metadata": {
        "id": "EbI4vwkgWx4r"
      }
    },
    {
      "cell_type": "code",
      "source": [
        "matrix = [\n",
        "    [1,2,3,4],\n",
        "    [5,6,7,8],\n",
        "    [9,10,11,12],\n",
        "    [13,14,15,16]\n",
        "]\n",
        "\n",
        "# 첫번째 행과 두번째 행을 추출\n",
        "first_two_rows = matrix[:2]\n",
        "print(first_two_rows)\n",
        "\n",
        "# 각 행에서 처음 두개의 요소만 추출\n",
        "first_to_columns = [row[0:2] for row in matrix]\n",
        "print(first_to_columns)"
      ],
      "metadata": {
        "colab": {
          "base_uri": "https://localhost:8080/"
        },
        "id": "M7GRAs-gZcdO",
        "outputId": "7cce98b4-7feb-4642-8ad9-8d234beee88f"
      },
      "execution_count": 6,
      "outputs": [
        {
          "output_type": "stream",
          "name": "stdout",
          "text": [
            "[[1, 2, 3, 4], [5, 6, 7, 8]]\n",
            "[[1, 2], [5, 6], [9, 10], [13, 14]]\n"
          ]
        }
      ]
    },
    {
      "cell_type": "markdown",
      "source": [
        "## 코드 2-5 : 리스트 슬라이싱을 사용한 리스트 값 변경"
      ],
      "metadata": {
        "id": "WZHVbRqXUo-e"
      }
    },
    {
      "cell_type": "code",
      "source": [
        "numbers = [10, 20, 30, 40, 50, 60, 70]\n",
        "numbers[2:5] = [300,400,500]\n",
        "print(numbers)"
      ],
      "metadata": {
        "colab": {
          "base_uri": "https://localhost:8080/"
        },
        "id": "bfdOVB45a78U",
        "outputId": "e893b1da-fb74-4da0-a299-d5b831753269"
      },
      "execution_count": 7,
      "outputs": [
        {
          "output_type": "stream",
          "name": "stdout",
          "text": [
            "[10, 20, 300, 400, 500, 60, 70]\n"
          ]
        }
      ]
    },
    {
      "cell_type": "markdown",
      "source": [
        "# list comprehension\n",
        "리스트 생성시 반복문을 활용하여 원소를 하나씩 추가하는 방식으로 사용하지만 리스트 컴프리센션을 활용하면 짧은 코드로 동일한 결과를 얻을 수 있다.\n",
        "\n",
        "```\n",
        "[표헌식 for 변수 in 리스트이름]\n",
        "[표현식 for 변수 in 리스트이름 if 조건식]\n",
        "```\n",
        "* 리스트를 포함한 본복 가능한 객체에 적용 가능\n",
        "* list, tuple, dictionary, str, set, range\n"
      ],
      "metadata": {
        "id": "5LVwD0xfbRu1"
      }
    },
    {
      "cell_type": "markdown",
      "source": [
        "## 코드 2-6 : 일반적인 리스트 생성\n",
        "기존의 반복문을 사용하여 일반적인 리스트 생성 방법"
      ],
      "metadata": {
        "id": "Jxkq1XzpcSEQ"
      }
    },
    {
      "cell_type": "code",
      "source": [
        "numbers = []\n",
        "for i in range(5):\n",
        "    numbers.append(i)\n",
        "\n",
        "print(numbers)"
      ],
      "metadata": {
        "colab": {
          "base_uri": "https://localhost:8080/"
        },
        "id": "WPU7Yqn2cRAN",
        "outputId": "e4da5c93-06db-425c-97ac-475f0ca0945a"
      },
      "execution_count": 9,
      "outputs": [
        {
          "output_type": "stream",
          "name": "stdout",
          "text": [
            "[0, 1, 2, 3, 4]\n"
          ]
        }
      ]
    },
    {
      "cell_type": "markdown",
      "source": [
        "## 코드 2-7 : list comprehension을 사용한 list 생성"
      ],
      "metadata": {
        "id": "mlkph53Fcr8K"
      }
    },
    {
      "cell_type": "code",
      "source": [
        "numbers = [i for i in range(5)]\n",
        "print(numbers)"
      ],
      "metadata": {
        "colab": {
          "base_uri": "https://localhost:8080/"
        },
        "id": "O7iIvUqWc2mb",
        "outputId": "cf0bedcf-3ed9-4abb-c4f3-6333f26291d2"
      },
      "execution_count": 10,
      "outputs": [
        {
          "output_type": "stream",
          "name": "stdout",
          "text": [
            "[0, 1, 2, 3, 4]\n"
          ]
        }
      ]
    },
    {
      "cell_type": "markdown",
      "source": [
        "## 코드 2-8 : 일반적인 리스트 값 변경을 통한 리스트 생성"
      ],
      "metadata": {
        "id": "X5Cr53KVdDIt"
      }
    },
    {
      "cell_type": "code",
      "source": [
        "numbers = [1 ,2, 3, 4, 5]\n",
        "sqares = []\n",
        "for num in numbers:\n",
        "    sqares.append(num ** 2)\n",
        "\n",
        "print(sqares)"
      ],
      "metadata": {
        "colab": {
          "base_uri": "https://localhost:8080/"
        },
        "id": "n7snlMpedCqM",
        "outputId": "60c27eb4-a1a0-4b2e-b415-7d6b1b941082"
      },
      "execution_count": 11,
      "outputs": [
        {
          "output_type": "stream",
          "name": "stdout",
          "text": [
            "[1, 4, 9, 16, 25]\n"
          ]
        }
      ]
    },
    {
      "cell_type": "markdown",
      "source": [
        "## 코드2-9 : list comprehension을 통한 값이 변경된 리스트 생성"
      ],
      "metadata": {
        "id": "JAyBvlaldleY"
      }
    },
    {
      "cell_type": "code",
      "source": [
        "numbers = [1, 2, 3, 4, 5]\n",
        "sqares = [num ** 2 for num in numbers]\n",
        "print(sqares)"
      ],
      "metadata": {
        "colab": {
          "base_uri": "https://localhost:8080/"
        },
        "id": "9YGKYflOdt1n",
        "outputId": "3314aee7-1017-429b-c0b2-3e035a38bc5c"
      },
      "execution_count": 12,
      "outputs": [
        {
          "output_type": "stream",
          "name": "stdout",
          "text": [
            "[1, 4, 9, 16, 25]\n"
          ]
        }
      ]
    },
    {
      "cell_type": "markdown",
      "source": [
        "## 코드 2-10 : 조건을 만족하는 원소만 선택하여 리스트 선택"
      ],
      "metadata": {
        "id": "Dmy0GqHed9BW"
      }
    },
    {
      "cell_type": "code",
      "source": [
        "numbers = [1, 2, 3, 4, 5, 6, 7, 8, 9, 10]\n",
        "even_numbers = []\n",
        "\n",
        "# 짝수만 선택\n",
        "for num in numbers:\n",
        "    if num % 2 == 0:\n",
        "        even_numbers.append(num)\n",
        "\n",
        "print(even_numbers)"
      ],
      "metadata": {
        "colab": {
          "base_uri": "https://localhost:8080/"
        },
        "id": "zkiApGTAfe2n",
        "outputId": "4d9933cd-d461-40e0-f7ed-9df85e7237af"
      },
      "execution_count": 13,
      "outputs": [
        {
          "output_type": "stream",
          "name": "stdout",
          "text": [
            "[2, 4, 6, 8, 10]\n"
          ]
        }
      ]
    },
    {
      "cell_type": "markdown",
      "source": [
        "## 코드 2-11 : list comprehension을 사용한 특정 원소 선택 후 list 생성"
      ],
      "metadata": {
        "id": "ABW2RHiwf30Z"
      }
    },
    {
      "cell_type": "code",
      "source": [
        "numbers = [1, 2, 3, 4, 5, 6, 7, 8, 9, 10]\n",
        "even_numbers = [num for num in numbers if num % 2 == 0]\n",
        "print(even_numbers)"
      ],
      "metadata": {
        "colab": {
          "base_uri": "https://localhost:8080/"
        },
        "id": "usFoWMX8gAEQ",
        "outputId": "2a6328d1-fb94-41ad-e225-08a81c30f690"
      },
      "execution_count": 14,
      "outputs": [
        {
          "output_type": "stream",
          "name": "stdout",
          "text": [
            "[2, 4, 6, 8, 10]\n"
          ]
        }
      ]
    },
    {
      "cell_type": "markdown",
      "source": [
        "## 코드 2-12 : 두 list의 모든 조합을 포함하는 list 생성\n",
        "\n",
        "list comprehension은 중첩 반복문과 함께 사용할 수 있다."
      ],
      "metadata": {
        "id": "ycU1e3hNgTfv"
      }
    },
    {
      "cell_type": "code",
      "source": [
        "list1 = ['사과', '복숭아', '바나나']\n",
        "list2 = ['주스', '잼', '통조림']\n",
        "pairs = []\n",
        "for fruit in list1:\n",
        "    for product in list2:\n",
        "        pairs.append((fruit, product))\n",
        "\n",
        "print(pairs)"
      ],
      "metadata": {
        "colab": {
          "base_uri": "https://localhost:8080/"
        },
        "id": "0AXxzPAXgkZl",
        "outputId": "b99f4e20-f5a4-4f81-b9b2-64c6174d37b1"
      },
      "execution_count": 15,
      "outputs": [
        {
          "output_type": "stream",
          "name": "stdout",
          "text": [
            "[('사과', '주스'), ('사과', '잼'), ('사과', '통조림'), ('복숭아', '주스'), ('복숭아', '잼'), ('복숭아', '통조림'), ('바나나', '주스'), ('바나나', '잼'), ('바나나', '통조림')]\n"
          ]
        }
      ]
    },
    {
      "cell_type": "markdown",
      "source": [
        "## 코드 2-13 list comprehension을 사용하여 두 list의 모든 조합을 포함한 list 생성\n",
        "\n",
        "for fruit in list1을 순회하면서 for product in list2를 를 순회한다.\n",
        "튜플 형태(fruit, product)로 생성"
      ],
      "metadata": {
        "id": "0qEQgkZag6-m"
      }
    },
    {
      "cell_type": "code",
      "source": [
        "list1 = ['사과', '복숭아', '바나나']\n",
        "list2 = ['주스', '잼', '통조림']\n",
        "pairs = [(fruit, product) for fruit in list1 for product in list2]\n",
        "print(pairs)"
      ],
      "metadata": {
        "colab": {
          "base_uri": "https://localhost:8080/"
        },
        "id": "BBtR08OjhENH",
        "outputId": "fb6e66fa-ce85-43d1-e4b4-c37f7cc66fe0"
      },
      "execution_count": 16,
      "outputs": [
        {
          "output_type": "stream",
          "name": "stdout",
          "text": [
            "[('사과', '주스'), ('사과', '잼'), ('사과', '통조림'), ('복숭아', '주스'), ('복숭아', '잼'), ('복숭아', '통조림'), ('바나나', '주스'), ('바나나', '잼'), ('바나나', '통조림')]\n"
          ]
        }
      ]
    }
  ]
}