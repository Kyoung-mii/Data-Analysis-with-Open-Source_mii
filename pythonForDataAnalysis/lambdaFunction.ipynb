{
  "nbformat": 4,
  "nbformat_minor": 0,
  "metadata": {
    "colab": {
      "provenance": [],
      "authorship_tag": "ABX9TyPCytCt3P3Fs8uTOJZvfD1r",
      "include_colab_link": true
    },
    "kernelspec": {
      "name": "python3",
      "display_name": "Python 3"
    },
    "language_info": {
      "name": "python"
    }
  },
  "cells": [
    {
      "cell_type": "markdown",
      "metadata": {
        "id": "view-in-github",
        "colab_type": "text"
      },
      "source": [
        "<a href=\"https://colab.research.google.com/github/Kyoung-mii/Data-Analysis-with-Open-Source_mii/blob/main/pythonForDataAnalysis/lambdaFunction.ipynb\" target=\"_parent\"><img src=\"https://colab.research.google.com/assets/colab-badge.svg\" alt=\"Open In Colab\"/></a>"
      ]
    },
    {
      "cell_type": "markdown",
      "source": [
        "# 람다 함수 (lambda function)\n",
        "* 이름 없는 익명 함수(anonymous function)로 한 줄의 표현식으로 작성할 수 있는 함수다.\n",
        "* 일반 함수는 def키워드를 사용하여 여러 줄로 정의할 수 있으며, 재사용성이 높다\n",
        "* 람다 함수는 한줄로 표현할 수 있으며, 즉시 사용할 수 있는 단순한 연산을 수행할 때 적합\n",
        "* 람다 함수는 합수를 정의하는 동시에 사용할 수 있으며, 코드의 가독성을 높이고 불필요한 함수 정의를 줄일 수 있는 것이 장점이다. 특히 map(), filter(), sorted()와 같은 함수형 프로그래밍 기법과 함께 사용되며, 데이터 변환 및 필터링을 보다 간결하게 작성할 수 있다.\n",
        "\n",
        "\n",
        "```\n",
        "lambda 매개변수 : 표현식\n",
        "```\n",
        "* 매개변수 부분은 함수가 받을 인자들의 목록으로 쉼표로 구분. 선택적이므로 필요하지 않을 경우 생략 가능\n",
        "* 콜론(:) 다음에 오는 표현식은 함수의 반환값을 결정하는 단일 표현식이다.\n",
        "* 표현식은 단 하나만 허용\n",
        "* 표현식의 결과는 자동으로 함수의 반환값이 되므로 return키워드를 사용하지 않는다.\n",
        "\n"
      ],
      "metadata": {
        "id": "HfnbD2XxId91"
      }
    },
    {
      "cell_type": "markdown",
      "source": [
        "## 코드 2-40 : 일반 함수와 람다 함수의 사용 예"
      ],
      "metadata": {
        "id": "dF9ajFmbMU8g"
      }
    },
    {
      "cell_type": "code",
      "source": [
        "def add(x):\n",
        "    return x + 2\n",
        "\n",
        "add_lambda = lambda x : x + 2\n",
        "print(add(3))\n",
        "print(add_lambda(3))"
      ],
      "metadata": {
        "colab": {
          "base_uri": "https://localhost:8080/"
        },
        "id": "hSrnPCgLMcQA",
        "outputId": "5087831d-7ddc-4129-dd0d-e72fd2810e99"
      },
      "execution_count": 2,
      "outputs": [
        {
          "output_type": "stream",
          "name": "stdout",
          "text": [
            "5\n",
            "5\n"
          ]
        }
      ]
    },
    {
      "cell_type": "markdown",
      "source": [
        "## 코드 2-41 : 람다 함수 예"
      ],
      "metadata": {
        "id": "J2zlVJrlIjqG"
      }
    },
    {
      "cell_type": "code",
      "execution_count": 4,
      "metadata": {
        "id": "-m8sHKEqiZJR",
        "colab": {
          "base_uri": "https://localhost:8080/"
        },
        "outputId": "508c858b-927b-42a9-e2a8-4a28f0c45394"
      },
      "outputs": [
        {
          "output_type": "stream",
          "name": "stdout",
          "text": [
            "파이썬 데이터 분석\n"
          ]
        }
      ],
      "source": [
        "concat = lambda s1, s2 : s1 + ' ' + s2\n",
        "print(concat('파이썬','데이터 분석'))"
      ]
    },
    {
      "cell_type": "markdown",
      "source": [
        "## 코드 2-42 : 람다 함수의 정의"
      ],
      "metadata": {
        "id": "PNs1sFlGNEbH"
      }
    },
    {
      "cell_type": "code",
      "source": [
        "is_even = lambda x : '짝수' if x % 2 == 0 else '홀수'\n",
        "print(is_even(10))\n",
        "print(is_even(7))"
      ],
      "metadata": {
        "colab": {
          "base_uri": "https://localhost:8080/"
        },
        "id": "yWa0b6IiNKG0",
        "outputId": "aea36e4e-8d9f-4dd9-92a0-f9e4b15ca423"
      },
      "execution_count": 5,
      "outputs": [
        {
          "output_type": "stream",
          "name": "stdout",
          "text": [
            "짝수\n",
            "홀수\n"
          ]
        }
      ]
    },
    {
      "cell_type": "markdown",
      "source": [
        "## 코드 2-43 : 람다 함수의 활용"
      ],
      "metadata": {
        "id": "EXx1HCgfNbja"
      }
    },
    {
      "cell_type": "code",
      "source": [
        "employees = {'이지혜':3000000,\n",
        "             '구민준':5000000,\n",
        "             '방서연':4100000\n",
        "}\n",
        "\n",
        "adjust_salary = lambda salary: salary * 1.1\n",
        "updated_salaries = {name: adjust_salary(salary) for name, salary in employees.items()}\n",
        "print(updated_salaries)"
      ],
      "metadata": {
        "colab": {
          "base_uri": "https://localhost:8080/"
        },
        "id": "88NFiANENgoN",
        "outputId": "188fd473-fe23-46be-93f7-5921b802e4ee"
      },
      "execution_count": 7,
      "outputs": [
        {
          "output_type": "stream",
          "name": "stdout",
          "text": [
            "{'이지혜': 3300000.0000000005, '구민준': 5500000.0, '방서연': 4510000.0}\n"
          ]
        }
      ]
    },
    {
      "cell_type": "markdown",
      "source": [
        "## 코드 2-44 : sorted()함수를 통한 데이터 정렬 예\n",
        "* sorted()함수는 key 매개변수를 통해 정렬 기준을 지정할 수 있기 때문에 lambda student: student[1]표현식은 리스트의 두번째 요소(점수)를 기준으로 정렬"
      ],
      "metadata": {
        "id": "TipfygqHO4WF"
      }
    },
    {
      "cell_type": "code",
      "source": [
        "students = [\n",
        "    ('김지은', 85),\n",
        "    ('이민수', 92),\n",
        "    ('박서현', 78),\n",
        "    ('정준호', 88),\n",
        "    ('최유진', 95)\n",
        "]\n",
        "sorted_students = sorted(students, key = lambda a: a[1])\n",
        "\n",
        "print('성적 오름차순 정렬 결과 : ')\n",
        "for name, score in sorted_students:\n",
        "    print(f'{name} : {score}점')"
      ],
      "metadata": {
        "colab": {
          "base_uri": "https://localhost:8080/"
        },
        "id": "wUD-6ZMbNkUX",
        "outputId": "ce8c2845-5ace-43fd-af43-568babca870c"
      },
      "execution_count": 10,
      "outputs": [
        {
          "output_type": "stream",
          "name": "stdout",
          "text": [
            "성적 오름차순 정렬 결과 : \n",
            "박서현 : 78점\n",
            "김지은 : 85점\n",
            "정준호 : 88점\n",
            "이민수 : 92점\n",
            "최유진 : 95점\n"
          ]
        }
      ]
    }
  ]
}