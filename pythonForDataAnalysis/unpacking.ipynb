{
  "nbformat": 4,
  "nbformat_minor": 0,
  "metadata": {
    "colab": {
      "provenance": [],
      "authorship_tag": "ABX9TyN9neF26YNuE08N2NOGQjJS",
      "include_colab_link": true
    },
    "kernelspec": {
      "name": "python3",
      "display_name": "Python 3"
    },
    "language_info": {
      "name": "python"
    }
  },
  "cells": [
    {
      "cell_type": "markdown",
      "metadata": {
        "id": "view-in-github",
        "colab_type": "text"
      },
      "source": [
        "<a href=\"https://colab.research.google.com/github/Kyoung-mii/Data-Analysis-with-Open-Source_mii/blob/main/pythonForDataAnalysis/unpacking.ipynb\" target=\"_parent\"><img src=\"https://colab.research.google.com/assets/colab-badge.svg\" alt=\"Open In Colab\"/></a>"
      ]
    },
    {
      "cell_type": "markdown",
      "source": [
        "# 언패킹(unpacking)\n",
        "* 시퀸스 자료형(list,tuple, string 등)에서 여러개의 값을 개별 변수에 분리하여 할당하는 기능\n",
        "\n",
        "\n",
        "\n",
        "```\n",
        "변수1, ..., 변수n-1, 변수n = 시퀸스_객체\n",
        "변수1, ..., *변수n-1, 변수n = 시퀸스_객체\n",
        "```\n",
        "\n"
      ],
      "metadata": {
        "id": "IJLb65Lgq084"
      }
    },
    {
      "cell_type": "markdown",
      "source": [
        "## 코드 2-28 : 언패킹 사용 예(1)"
      ],
      "metadata": {
        "id": "op2zWlh6sHQ3"
      }
    },
    {
      "cell_type": "code",
      "execution_count": 3,
      "metadata": {
        "id": "-m8sHKEqiZJR",
        "colab": {
          "base_uri": "https://localhost:8080/"
        },
        "outputId": "6e03f9ae-6c9a-4b98-d5b4-4376ad4eb865"
      },
      "outputs": [
        {
          "output_type": "stream",
          "name": "stdout",
          "text": [
            "x좌표:10, y좌표:20\n",
            "빨강:255, 초록:128, 파랑:0\n",
            "첫번째 문자:A, 두번째 문자:B, 세번째 문자:C\n"
          ]
        }
      ],
      "source": [
        "coordinates = (10, 20)\n",
        "x, y = coordinates\n",
        "print(f'x좌표:{x}, y좌표:{y}')\n",
        "rgb = [255, 128, 0]\n",
        "red, green, blue = rgb\n",
        "print(f'빨강:{red}, 초록:{green}, 파랑:{blue}')\n",
        "word = 'ABC'\n",
        "first, second, third = word\n",
        "print(f'첫번째 문자:{first}, 두번째 문자:{second}, 세번째 문자:{third}')"
      ]
    },
    {
      "cell_type": "markdown",
      "source": [
        "## 코드 2-29 : 함수에서 여러 값을 반환하는 언패킹"
      ],
      "metadata": {
        "id": "9l5PLHaDtSsT"
      }
    },
    {
      "cell_type": "code",
      "source": [
        "def get_dataset_stats(values):\n",
        "    return min(values), max(values), sum(values)/len(values)\n",
        "\n",
        "data = [12, 8, 21, 17, 5, 32, 14]\n",
        "minimum, maximum, average = get_dataset_stats(data)\n",
        "print(f'최소값:{minimum}, 최댓값:{maximum}, 평균{average:.2f}')"
      ],
      "metadata": {
        "id": "tYtGm_9vtaqS",
        "outputId": "61e82174-f4e5-48d6-8f70-165cc97bd380",
        "colab": {
          "base_uri": "https://localhost:8080/"
        }
      },
      "execution_count": 5,
      "outputs": [
        {
          "output_type": "stream",
          "name": "stdout",
          "text": [
            "최소값:5, 최댓값:32, 평균15.57\n"
          ]
        }
      ]
    },
    {
      "cell_type": "markdown",
      "source": [
        "## 코드 2-30 : 언패킹 사용 예(2)"
      ],
      "metadata": {
        "id": "Ng6iRSZVtZ-L"
      }
    },
    {
      "cell_type": "code",
      "source": [
        "student_scores = [\n",
        "    ('김철수', 85, 92, 78),\n",
        "    ('이영희', 92, 88, 95),\n",
        "    ('김철수', 75, 83, 90)\n",
        "]\n",
        "for name, database, python, cloud in student_scores:\n",
        "    average = (database + python + cloud) / 3\n",
        "    print(f'{name}의 평균 점수 : {average:.1f}')"
      ],
      "metadata": {
        "id": "D9v47dkGu6_r",
        "outputId": "65d7f20b-abda-447c-9f5b-7e9ae54c91b8",
        "colab": {
          "base_uri": "https://localhost:8080/"
        }
      },
      "execution_count": 6,
      "outputs": [
        {
          "output_type": "stream",
          "name": "stdout",
          "text": [
            "김철수의 평균 점수 : 85.0\n",
            "이영희의 평균 점수 : 91.7\n",
            "김철수의 평균 점수 : 82.7\n"
          ]
        }
      ]
    }
  ]
}