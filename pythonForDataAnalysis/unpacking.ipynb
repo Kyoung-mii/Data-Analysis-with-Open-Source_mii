{
  "nbformat": 4,
  "nbformat_minor": 0,
  "metadata": {
    "colab": {
      "provenance": [],
      "authorship_tag": "ABX9TyO8MVWm8Xg08pb7Wlp9TO5x",
      "include_colab_link": true
    },
    "kernelspec": {
      "name": "python3",
      "display_name": "Python 3"
    },
    "language_info": {
      "name": "python"
    }
  },
  "cells": [
    {
      "cell_type": "markdown",
      "metadata": {
        "id": "view-in-github",
        "colab_type": "text"
      },
      "source": [
        "<a href=\"https://colab.research.google.com/github/Kyoung-mii/Data-Analysis-with-Open-Source_mii/blob/main/pythonForDataAnalysis/unpacking.ipynb\" target=\"_parent\"><img src=\"https://colab.research.google.com/assets/colab-badge.svg\" alt=\"Open In Colab\"/></a>"
      ]
    },
    {
      "cell_type": "markdown",
      "source": [
        "# 언패킹(unpacking)\n",
        "* 시퀸스 자료형(list,tuple, string 등)에서 여러개의 값을 개별 변수에 분리하여 할당하는 기능\n",
        "\n",
        "\n",
        "\n",
        "```\n",
        "변수1, ..., 변수n-1, 변수n = 시퀸스_객체\n",
        "변수1, ..., *변수n-1, 변수n = 시퀸스_객체\n",
        "```\n",
        "\n"
      ],
      "metadata": {
        "id": "IJLb65Lgq084"
      }
    },
    {
      "cell_type": "markdown",
      "source": [
        "## 코드 2-28 언패킹 사용 예(1)"
      ],
      "metadata": {
        "id": "op2zWlh6sHQ3"
      }
    },
    {
      "cell_type": "code",
      "execution_count": 2,
      "metadata": {
        "id": "-m8sHKEqiZJR",
        "outputId": "139a1a0c-8216-4169-e23b-4e5f6524bb48",
        "colab": {
          "base_uri": "https://localhost:8080/"
        }
      },
      "outputs": [
        {
          "output_type": "stream",
          "name": "stdout",
          "text": [
            "x좌표:10, y좌표:20\n",
            "빨강:255, 초록:128, 파랑:0\n",
            "첫번째 문자 : A, 두번째 문자 : B, 세번째 문자 : C\n"
          ]
        }
      ],
      "source": [
        "coordinates = (10, 20)\n",
        "x, y = coordinates\n",
        "print(f'x좌표:{x}, y좌표:{y}')\n",
        "rgb = [255, 128, 0]\n",
        "red, green, blue = rgb\n",
        "print(f'빨강:{red}, 초록:{green}, 파랑:{blue}')\n",
        "word = 'ABC'\n",
        "first, second, third = word\n",
        "print(f'첫번째 문자:{first}, 두번째 문자:{second}, 세번째 문자:{third}')"
      ]
    }
  ]
}