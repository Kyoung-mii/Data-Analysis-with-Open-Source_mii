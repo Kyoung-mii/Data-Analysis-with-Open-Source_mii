{
  "nbformat": 4,
  "nbformat_minor": 0,
  "metadata": {
    "colab": {
      "provenance": [],
      "authorship_tag": "ABX9TyPjVXOGGMDm8ZeyZBloVE+7",
      "include_colab_link": true
    },
    "kernelspec": {
      "name": "python3",
      "display_name": "Python 3"
    },
    "language_info": {
      "name": "python"
    }
  },
  "cells": [
    {
      "cell_type": "markdown",
      "metadata": {
        "id": "view-in-github",
        "colab_type": "text"
      },
      "source": [
        "<a href=\"https://colab.research.google.com/github/Kyoung-mii/Data-Analysis-with-Open-Source_mii/blob/main/pythonForDataAnalysis/exceptionHandling.ipynb\" target=\"_parent\"><img src=\"https://colab.research.google.com/assets/colab-badge.svg\" alt=\"Open In Colab\"/></a>"
      ]
    },
    {
      "cell_type": "markdown",
      "source": [
        "# 예외처리(Exception Handling)"
      ],
      "metadata": {
        "id": "ktIui0tM8__r"
      }
    },
    {
      "cell_type": "markdown",
      "source": [
        "## 코드 2-35 : 예외가 발생하는 예"
      ],
      "metadata": {
        "id": "x6Gffne99Jnf"
      }
    },
    {
      "cell_type": "code",
      "execution_count": 5,
      "metadata": {
        "id": "-m8sHKEqiZJR",
        "outputId": "4d87e4fa-b65a-4873-c9f1-672f9bef966e",
        "colab": {
          "base_uri": "https://localhost:8080/",
          "height": 216
        }
      },
      "outputs": [
        {
          "name": "stdout",
          "output_type": "stream",
          "text": [
            "점수를 입력하세요: 0\n"
          ]
        },
        {
          "output_type": "error",
          "ename": "ZeroDivisionError",
          "evalue": "division by zero",
          "traceback": [
            "\u001b[0;31m---------------------------------------------------------------------------\u001b[0m",
            "\u001b[0;31mZeroDivisionError\u001b[0m                         Traceback (most recent call last)",
            "\u001b[0;32m/tmp/ipython-input-4213336937.py\u001b[0m in \u001b[0;36m<cell line: 0>\u001b[0;34m()\u001b[0m\n\u001b[1;32m      1\u001b[0m \u001b[0mnumber\u001b[0m \u001b[0;34m=\u001b[0m \u001b[0mint\u001b[0m\u001b[0;34m(\u001b[0m\u001b[0minput\u001b[0m\u001b[0;34m(\u001b[0m\u001b[0;34m'점수를 입력하세요: '\u001b[0m\u001b[0;34m)\u001b[0m\u001b[0;34m)\u001b[0m\u001b[0;34m\u001b[0m\u001b[0;34m\u001b[0m\u001b[0m\n\u001b[1;32m      2\u001b[0m \u001b[0;31m#number = 0\u001b[0m\u001b[0;34m\u001b[0m\u001b[0;34m\u001b[0m\u001b[0m\n\u001b[0;32m----> 3\u001b[0;31m \u001b[0mresult\u001b[0m \u001b[0;34m=\u001b[0m \u001b[0;36m10\u001b[0m \u001b[0;34m/\u001b[0m \u001b[0mnumber\u001b[0m\u001b[0;34m\u001b[0m\u001b[0;34m\u001b[0m\u001b[0m\n\u001b[0m\u001b[1;32m      4\u001b[0m \u001b[0mprint\u001b[0m\u001b[0;34m(\u001b[0m\u001b[0;34mf'결과 : {result}'\u001b[0m\u001b[0;34m)\u001b[0m\u001b[0;34m\u001b[0m\u001b[0;34m\u001b[0m\u001b[0m\n",
            "\u001b[0;31mZeroDivisionError\u001b[0m: division by zero"
          ]
        }
      ],
      "source": [
        "number = int(input('점수를 입력하세요: '))\n",
        "#number = 0\n",
        "result = 10 / number\n",
        "print(f'결과 : {result}')"
      ]
    },
    {
      "cell_type": "markdown",
      "source": [
        "## try-except 문"
      ],
      "metadata": {
        "id": "9BRhLSBN-uEX"
      }
    },
    {
      "cell_type": "markdown",
      "source": [
        "## 코드 2-36 : try-except문 사용 예"
      ],
      "metadata": {
        "id": "3888yeTH_0r-"
      }
    },
    {
      "cell_type": "code",
      "source": [
        "try:\n",
        "    result = 10 /0\n",
        "except ZeroDivisionError:\n",
        "    print('0으로 나눌 수 없습니다.')"
      ],
      "metadata": {
        "id": "nXBN3pqy_9tw",
        "outputId": "f407a21e-f9f6-41f2-e083-e8046e048973",
        "colab": {
          "base_uri": "https://localhost:8080/"
        }
      },
      "execution_count": 2,
      "outputs": [
        {
          "output_type": "stream",
          "name": "stdout",
          "text": [
            "0으로 나눌 수 없습니다.\n"
          ]
        }
      ]
    },
    {
      "cell_type": "markdown",
      "source": [
        "## 코드 2-37 : try-except문 사용 예(2)"
      ],
      "metadata": {
        "id": "7a5-9MUKAL-a"
      }
    },
    {
      "cell_type": "code",
      "source": [
        "try:\n",
        "    number = int(input('숫자를 입력하세요: '))\n",
        "    result = 10 / number\n",
        "except ValueError:\n",
        "    print('유효한 숫자를 입력해야 합니다.')\n",
        "except ZeroDivisionError:\n",
        "    print('0으로 나눌 수 없습니다.')"
      ],
      "metadata": {
        "id": "iJIsBtUnAYn8",
        "outputId": "6b7d023f-b923-48df-a6be-863d270f9779",
        "colab": {
          "base_uri": "https://localhost:8080/"
        }
      },
      "execution_count": 3,
      "outputs": [
        {
          "output_type": "stream",
          "name": "stdout",
          "text": [
            "숫자를 입력하세요: ㅁ\n",
            "유효한 숫자를 입력해야 합니다.\n"
          ]
        }
      ]
    },
    {
      "cell_type": "markdown",
      "source": [
        "## 코드 2-38 : 예외 객체를 변수로 받아 메시지 출력"
      ],
      "metadata": {
        "id": "HoHa_VEhCIR1"
      }
    },
    {
      "cell_type": "code",
      "source": [
        "try:\n",
        "    numbers = [1, 2, 3]\n",
        "    print(numbers[3])\n",
        "except IndexError as e:\n",
        "    print(f'예외 발생 : {e}')"
      ],
      "metadata": {
        "id": "rZmS1NOXCH31",
        "outputId": "9f29addc-c147-46d3-a108-0e1f0732649e",
        "colab": {
          "base_uri": "https://localhost:8080/"
        }
      },
      "execution_count": 6,
      "outputs": [
        {
          "output_type": "stream",
          "name": "stdout",
          "text": [
            "예외 발생 : list index out of range\n"
          ]
        }
      ]
    },
    {
      "cell_type": "markdown",
      "source": [
        "# finally 블록\n",
        "* 예외 발생 여부와 관계없이 반드시 실행되는 코드 블록\n",
        "* 파일을 열거나 네트워크 연결을 사용하는 경우, 오류가 발생하더라도 자원을 정상적으로 해제하기 위해 finally를 사용."
      ],
      "metadata": {
        "id": "EVUp_g1iCh9C"
      }
    },
    {
      "cell_type": "markdown",
      "source": [
        "## 코드 2-39 : finally 블록 사용 예"
      ],
      "metadata": {
        "id": "l1DhrlnWElKL"
      }
    },
    {
      "cell_type": "code",
      "source": [
        "try:\n",
        "    file1 = open('data.csv', 'r')\n",
        "    content = file1.read()\n",
        "    print(content)\n",
        "except FileNotFoundError:\n",
        "    print('파일을 찾을 수 없습니다.')\n",
        "finally:\n",
        "    print('파일 작업 종료.')\n",
        "    file1.close()"
      ],
      "metadata": {
        "id": "NBSt-lFqE0Lh",
        "outputId": "f3c7fac5-5300-40b4-8f6e-ce90315ac8cd",
        "colab": {
          "base_uri": "https://localhost:8080/",
          "height": 216
        }
      },
      "execution_count": 10,
      "outputs": [
        {
          "output_type": "stream",
          "name": "stdout",
          "text": [
            "파일을 찾을 수 없습니다.\n",
            "파일 작업 종료\n"
          ]
        },
        {
          "output_type": "error",
          "ename": "NameError",
          "evalue": "name 'file1' is not defined",
          "traceback": [
            "\u001b[0;31m---------------------------------------------------------------------------\u001b[0m",
            "\u001b[0;31mNameError\u001b[0m                                 Traceback (most recent call last)",
            "\u001b[0;32m/tmp/ipython-input-1194837225.py\u001b[0m in \u001b[0;36m<cell line: 0>\u001b[0;34m()\u001b[0m\n\u001b[1;32m      7\u001b[0m \u001b[0;32mfinally\u001b[0m\u001b[0;34m:\u001b[0m\u001b[0;34m\u001b[0m\u001b[0;34m\u001b[0m\u001b[0m\n\u001b[1;32m      8\u001b[0m     \u001b[0mprint\u001b[0m\u001b[0;34m(\u001b[0m\u001b[0;34m'파일 작업 종료'\u001b[0m\u001b[0;34m)\u001b[0m\u001b[0;34m\u001b[0m\u001b[0;34m\u001b[0m\u001b[0m\n\u001b[0;32m----> 9\u001b[0;31m     \u001b[0mfile1\u001b[0m\u001b[0;34m.\u001b[0m\u001b[0mclose\u001b[0m\u001b[0;34m(\u001b[0m\u001b[0;34m)\u001b[0m\u001b[0;34m\u001b[0m\u001b[0;34m\u001b[0m\u001b[0m\n\u001b[0m",
            "\u001b[0;31mNameError\u001b[0m: name 'file1' is not defined"
          ]
        }
      ]
    }
  ]
}