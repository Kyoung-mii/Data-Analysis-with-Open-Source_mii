{
  "nbformat": 4,
  "nbformat_minor": 0,
  "metadata": {
    "colab": {
      "provenance": [],
      "toc_visible": true,
      "authorship_tag": "ABX9TyM/CdyDGRakrA0NA3bGt1Mk",
      "include_colab_link": true
    },
    "kernelspec": {
      "name": "python3",
      "display_name": "Python 3"
    },
    "language_info": {
      "name": "python"
    }
  },
  "cells": [
    {
      "cell_type": "markdown",
      "metadata": {
        "id": "view-in-github",
        "colab_type": "text"
      },
      "source": [
        "<a href=\"https://colab.research.google.com/github/Kyoung-mii/Data-Analysis-with-Open-Source_mii/blob/main/pythonForDataAnalysis/stringFormatting.ipynb\" target=\"_parent\"><img src=\"https://colab.research.google.com/assets/colab-badge.svg\" alt=\"Open In Colab\"/></a>"
      ]
    },
    {
      "cell_type": "markdown",
      "source": [
        "# 문자열 형식 지정\n",
        "특정 형식의 데이터를 출력해야 하거나, 변수값을 포함한 문자열을 만들어야 하는 경우 등 문자열을 상황에 맞춰 형식화해야 하는 경우\n",
        "* % 연산자를 사용하는 방법\n",
        "* str.format()를 활용하는 방법\n",
        "* f-문자열을 이용하는 방법 : 가독성 향상\n",
        "    * interplatio을 활용하여 변수를 직접 문자열에 삽입할 수 있는 기능 제공"
      ],
      "metadata": {
        "id": "trv0m4n034mw"
      }
    },
    {
      "cell_type": "markdown",
      "source": [
        "# C 스타일(% 연산자) formatting\n",
        "<주요 형식 지정자>\n",
        "* %d : decimal 출력\n",
        "* %i : integer 출력 ( = %d)\n",
        "* %o : octal(8진수) 출력\n",
        "* %x : 16진수(lowercase) 출력\n",
        "* %X : 16진수(uppercase) 출력\n",
        "* %f : 소수점이 있는 실수(float)출력\n",
        "* %.nf : 소수점 이하 n자리까지 출력\n",
        "* %e : 지수형 표현(lowercase)\n",
        "* %E : 지수형 표현(uppercase)\n",
        "* %g : 일반 실수(%f) 또는 지수형(%e) 중 적절한 형식 선택(소수점 자동 조절)\n",
        "* %G : %g와 동일하나 대문자 E 사용\n",
        "* %c : 단일 문자 출력(정수의 ASCII 문자로 변환)\n",
        "* %s : 문자열 출력\n",
        "* %% : %문자 출력"
      ],
      "metadata": {
        "id": "Kl_F96cQ7GXx"
      }
    },
    {
      "cell_type": "markdown",
      "source": [
        "## 코드 2-20 : 형식 지정자를 사용한 변수 삽입\n"
      ],
      "metadata": {
        "id": "0f_LkfIL-jxf"
      }
    },
    {
      "cell_type": "code",
      "execution_count": 1,
      "metadata": {
        "id": "-m8sHKEqiZJR",
        "outputId": "29378a12-613e-4b97-a9cc-8054d10fa675",
        "colab": {
          "base_uri": "https://localhost:8080/"
        }
      },
      "outputs": [
        {
          "output_type": "stream",
          "name": "stdout",
          "text": [
            "상품명 ; 프린터, 가격 : 360000\n"
          ]
        }
      ],
      "source": [
        "item = '프린터'\n",
        "price = 360000\n",
        "\n",
        "print('상품명 ; %s, 가격 : %d' %(item, price))"
      ]
    },
    {
      "cell_type": "markdown",
      "source": [
        "# str.format() 메서드를 이용한 포맷팅\n",
        "중괄호를 표시된 자리 표시자(placeholder)를 사용하여 문자열 내의 특성 위리에 값을 삽입할 수 있게 한다.\n",
        "\n",
        "```\n",
        "'문자열 {위치 또는 이름}'.format(인자)\n",
        "```\n",
        "<str.format() 기본사용법>\n",
        "* 위치 인수 (순서대로)\n",
        "    * '{}'.format(값)\n",
        "    * '안녕{}'.format('홍길동')  \n",
        "        안녕홍길동\n",
        "* 위치 인수 (인덱스 지정)\n",
        "    * '{0}'.format(값)\n",
        "    * '{0} {1}'.format('홍길동',30)\n",
        "        => 홍길동 30\n",
        "* 키워드 인자\n",
        "    * '{키워드}'.format(키워드=값)\n",
        "    * '{name}'.format(name = '홍길동')\n",
        "      => 홍길동\n",
        "* 혼합 사용  \n",
        "    * '{0} {키워드}'.format(값, 키워드=값)\n",
        "    * '{0} {age}세'.format('홍길동', age=30). => 홍길동 30세\n",
        "\n",
        "<숫자 표맷 지정자>\n",
        "* {:d} : 정수\n",
        "    * '{:d}'.format(123) => 123\n",
        "* {:f} : 부동소수점\n",
        "    * '{:f}'.formaat(3.14159) => 3.14159\n",
        "* {:.2f} : 소수점 둘째자리까지\n",
        "    * '{:.2f}'.format(3.14159) => 3.14\n",
        "* {: : 천단위 구분자\n",
        "    * '{:,}'.format(1234567} => 1,234,567\n",
        "* {:.1%} : 백분율(소수점 첫째자리)\n",
        "    * '{:.1%}'.format(0.1234)  => 12.3%\n",
        "\n",
        "<문자열 모맷팅 지정자>\n",
        "* {:10} : 10칸 우측정렬\n",
        "    * '{:10}'.format('hello') => '     hello'\n",
        "* {:<10} : 10칸 좌측 정렬\n",
        "    * '{:<10}'.format('hello') => 'hello     '\n",
        "* {:^10} : 10칸 중앙 정렬\n",
        "    * '{:^10}'.format('hello') => '  hello  '\n",
        "* {:>10} : 10칸 우측 정렬(명시적)\n",
        "    * '{:>10}'.format('hello') => '     hello'\n",
        "* {:*^10} : 별표로 패딩하며 중앙 정렬\n",
        "    * '{:*^10}'.format('hello') => '\\*\\*hello\\*\\*\\*'"
      ],
      "metadata": {
        "id": "yzuz-IX9330G"
      }
    },
    {
      "cell_type": "markdown",
      "source": [
        "## 코드 2-21 str.format() 메서드를 통한 문자열 형식 지정"
      ],
      "metadata": {
        "id": "-qGAq_JgY7VI"
      }
    },
    {
      "cell_type": "code",
      "source": [
        "name = '홍길동'\n",
        "age = 30\n",
        "salary = 3500000\n",
        "tax_rate = 0.1\n",
        "basic_format = '이름:{}, 나이:{}, 월급:{}원'.format(name,age,salary)\n",
        "index_format = '직원 {0}의 나이는 {1}세이고, {0}의 세후 월급은 {2}원입니다.'\\\n",
        "    .format(name, age, int(salary * (1-tax_rate)))\n",
        "keyword_format = '직원정보: 이름: {employee} 나이:{years}세 \\\n",
        "    월급:{income:,}원 세금:{tax:.1%} 실수령액:{net_income:,}원' \\\n",
        "    .format(employee = name, years = age, income = salary, tax = tax_rate,\n",
        "            net_income = int(salary * (1 - tax_rate)))\n",
        "print(basic_format)\n",
        "print(index_format)\n",
        "print(keyword_format)"
      ],
      "metadata": {
        "id": "28TMle4vZEmE",
        "outputId": "213825e5-0cf7-4267-caa0-87fc10b3be80",
        "colab": {
          "base_uri": "https://localhost:8080/"
        }
      },
      "execution_count": 3,
      "outputs": [
        {
          "output_type": "stream",
          "name": "stdout",
          "text": [
            "이름:홍길동, 나이:30, 월급:3500000원\n",
            "직원 홍길동의 나이는 30세이고, 홍길동의 세후 월급은 3150000원입니다.\n",
            "직원정보: 이름: 홍길동 나이:30세     월급:3,500,000원 세금:10.0% 실수령액:3,150,000원\n"
          ]
        }
      ]
    },
    {
      "cell_type": "markdown",
      "source": [
        "# f-문자열 (formatted string literal)\n",
        "* 문자열 앞에 'f' 또는 'F' 접두사를 붙임.\n",
        "* 중괄호를 사용하여 변수나 표현식을 포함시킨다.\n",
        "* 중괄호 안에는 변수명, 계산식, 함수 호출 등 표현식이 올수 있다."
      ],
      "metadata": {
        "id": "85x1wbCJbwq_"
      }
    },
    {
      "cell_type": "markdown",
      "source": [
        "## 코드 2-22 : f-문자열(1)"
      ],
      "metadata": {
        "id": "f-YOkYbdd7LR"
      }
    },
    {
      "cell_type": "code",
      "source": [
        "name = '홍길동'\n",
        "age = 30\n",
        "print(f'이름 : {name}, 나이 : {age}')"
      ],
      "metadata": {
        "id": "g8u5x70ferWH",
        "outputId": "2f0b1719-16de-4f32-b898-8433c47888a4",
        "colab": {
          "base_uri": "https://localhost:8080/"
        }
      },
      "execution_count": 1,
      "outputs": [
        {
          "output_type": "stream",
          "name": "stdout",
          "text": [
            "이름 : 홍길동, 나이 : 30\n"
          ]
        }
      ]
    },
    {
      "cell_type": "markdown",
      "source": [
        "## 코드 2-23 : f-문자열(2)"
      ],
      "metadata": {
        "id": "5H2BoW4Ie8z0"
      }
    },
    {
      "cell_type": "code",
      "source": [
        "name = '홍길동'\n",
        "age = 30\n",
        "salary = 3500000\n",
        "tax_rate = 0.1\n",
        "basic_format = f'이름 :{name}, 나이 :{age}, 월급: {salary}원'\n",
        "index_format = f'직원 {name}의 나이는 {age}세이고, {name}의 세후 월급은 \\\n",
        "    {int(salary * (1 - tax_rate))}원 입니다.'\n",
        "keyword_format = f'직원정보 : 이름 {name} 나이 : {age}세 \\\n",
        "    월급 : {salary:,}원 세금:{tax_rate:.1%}\\\n",
        "    실수령액 : {int(salary * (1-tax_rate)):,}원'\n",
        "\n",
        "print(basic_format)\n",
        "print(index_format)\n",
        "print(keyword_format)"
      ],
      "metadata": {
        "id": "64g50laKZJDs",
        "outputId": "3f7c92ca-062c-4782-afdb-cd4439f9c5ca",
        "colab": {
          "base_uri": "https://localhost:8080/"
        }
      },
      "execution_count": 4,
      "outputs": [
        {
          "output_type": "stream",
          "name": "stdout",
          "text": [
            "이름 :홍길동, 나이 :30, 월급: 3500000원\n",
            "직원 홍길동의 나이는 30세이고, 홍길동의 세후 월급은     3150000원 입니다.\n",
            "직원정보 : 이름 홍길동 나이 : 30세     월급 : 3,500,000원 세금:10.0%    실수령액 : 3,150,000원\n"
          ]
        }
      ]
    }
  ]
}