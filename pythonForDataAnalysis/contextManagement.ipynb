{
  "nbformat": 4,
  "nbformat_minor": 0,
  "metadata": {
    "colab": {
      "provenance": [],
      "authorship_tag": "ABX9TyM6AOcflakqE8IKn4s+v3pG",
      "include_colab_link": true
    },
    "kernelspec": {
      "name": "python3",
      "display_name": "Python 3"
    },
    "language_info": {
      "name": "python"
    }
  },
  "cells": [
    {
      "cell_type": "markdown",
      "metadata": {
        "id": "view-in-github",
        "colab_type": "text"
      },
      "source": [
        "<a href=\"https://colab.research.google.com/github/Kyoung-mii/Data-Analysis-with-Open-Source_mii/blob/main/pythonForDataAnalysis/contextManagement.ipynb\" target=\"_parent\"><img src=\"https://colab.research.google.com/assets/colab-badge.svg\" alt=\"Open In Colab\"/></a>"
      ]
    },
    {
      "cell_type": "markdown",
      "source": [
        "# 컨텍스트 관리(Context management)\n",
        "* 파일 처리, 데이터베이스 연결, 네트워크 소켓 등 사용 후 명시적으로 종료하여야 하는 자원의 획득과 해제를 자동으로 처리하는 것\n",
        "* with로 구현 (close()를 호출하지 않아도 됨)\n",
        "* 예외 상황에서도 리소르가 올바르게 해제된다\n"
      ],
      "metadata": {
        "id": "qsDlagsQjV0k"
      }
    },
    {
      "cell_type": "markdown",
      "source": [
        "## 코드 2-24 open()함수와 close() 메서드\n",
        "* file.close()를 호출하지 않으면 파일이 계속 열린 상태로 남아 있을 수도 있다.\n",
        "* 파일 핸들 누수(file handle leak)"
      ],
      "metadata": {
        "id": "rslK4cCzj-sK"
      }
    },
    {
      "cell_type": "code",
      "execution_count": 1,
      "metadata": {
        "id": "-m8sHKEqiZJR"
      },
      "outputs": [],
      "source": [
        "file = open('output.txt', 'w')\n",
        "file.write('Hello, world!\\n')\n",
        "file.close()"
      ]
    },
    {
      "cell_type": "markdown",
      "source": [
        "## 코드 2-25 : with 문 사용 예(1)"
      ],
      "metadata": {
        "id": "IVLu5tsMleg4"
      }
    },
    {
      "cell_type": "code",
      "source": [
        "with open('output.txt','w') as file:\n",
        "    file.write('Hello, world!\\nHello, world!\\nHello, world!\\nHello, world!\\n')"
      ],
      "metadata": {
        "id": "gXpdPkjZll7o"
      },
      "execution_count": 7,
      "outputs": []
    },
    {
      "cell_type": "markdown",
      "source": [
        "## 코드 2-26 : with 문 사용 예(2)"
      ],
      "metadata": {
        "id": "GD7TZ6_PmSPG"
      }
    },
    {
      "cell_type": "code",
      "source": [
        "with open('input.txt','r') as in_file, open('output.txt', 'w') as output_file:\n",
        "    for line in in_file:\n",
        "        output_file.write(line.upper())\n"
      ],
      "metadata": {
        "id": "XKec_6mGmZKx"
      },
      "execution_count": 8,
      "outputs": []
    },
    {
      "cell_type": "markdown",
      "source": [
        "## 코드 2-27 : with문 사용 예(3)"
      ],
      "metadata": {
        "id": "thPyZEL5n-Ov"
      }
    },
    {
      "cell_type": "code",
      "source": [
        "import urllib.request\n",
        "with urllib.request.urlopen('https://raw.githubusercontent.com/Kyoung-mii/Data-Analysis-with-Open-Source/refs/heads/main/Chapter%203/students.csv') as response:\n",
        "    data = response.read().decode('utf-8')\n",
        "print(data)"
      ],
      "metadata": {
        "id": "qUiESTmMoDgQ",
        "outputId": "fdbf017f-c6e4-4a88-f52e-4c1bbfd70be4",
        "colab": {
          "base_uri": "https://localhost:8080/"
        }
      },
      "execution_count": 10,
      "outputs": [
        {
          "output_type": "stream",
          "name": "stdout",
          "text": [
            "학번,이름,데이터베이스,파이썬,클라우드\n",
            "101,김철수,85,78,92\n",
            "102,이영희,76,82,78\n",
            "103,박지민,92,95,85\n",
            "104,최준서,63,70,75\n",
            "105,정미나,88,84,91\n",
            "\n"
          ]
        }
      ]
    }
  ]
}