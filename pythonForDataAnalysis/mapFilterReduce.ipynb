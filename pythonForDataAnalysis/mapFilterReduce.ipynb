{
  "nbformat": 4,
  "nbformat_minor": 0,
  "metadata": {
    "colab": {
      "provenance": [],
      "authorship_tag": "ABX9TyNfEl6b5d17O9lXH9Lfenyx",
      "include_colab_link": true
    },
    "kernelspec": {
      "name": "python3",
      "display_name": "Python 3"
    },
    "language_info": {
      "name": "python"
    }
  },
  "cells": [
    {
      "cell_type": "markdown",
      "metadata": {
        "id": "view-in-github",
        "colab_type": "text"
      },
      "source": [
        "<a href=\"https://colab.research.google.com/github/Kyoung-mii/Data-Analysis-with-Open-Source_mii/blob/main/pythonForDataAnalysis/mapFilterReduce.ipynb\" target=\"_parent\"><img src=\"https://colab.research.google.com/assets/colab-badge.svg\" alt=\"Open In Colab\"/></a>"
      ]
    },
    {
      "cell_type": "markdown",
      "source": [
        "# map, filter, reduce\n",
        "* 함수형 프로그래밍 기법으로 데이터 변환, 필터, 누적연산을 수행하는 역할\n",
        "* 반복문을 사용하지 않고도 리스트나 다른 반복 가능한 객체의요소를 손쉽게 조작할 수 있ㄷ록 도와준다."
      ],
      "metadata": {
        "id": "eWJFaWVuVYto"
      }
    },
    {
      "cell_type": "markdown",
      "source": [
        "## map 함수\n",
        "반복 가능한 객체의 모든 요소의 특정 함수를 적용하여 새로운 값을 생성하는 함수\n",
        "* 리스트나 튜플과 같은 자료구조의 요소를 변경해야 할 때 유용."
      ],
      "metadata": {
        "id": "huiCCcSvV6q0"
      }
    },
    {
      "cell_type": "markdown",
      "source": [
        "### 코드 2-45 : map 함수 사용 예(1)"
      ],
      "metadata": {
        "id": "v2CjZt40WMpG"
      }
    },
    {
      "cell_type": "code",
      "execution_count": 3,
      "metadata": {
        "id": "-m8sHKEqiZJR",
        "outputId": "1c5eb236-3857-4f5c-abba-5a7f026b6be5",
        "colab": {
          "base_uri": "https://localhost:8080/"
        }
      },
      "outputs": [
        {
          "output_type": "stream",
          "name": "stdout",
          "text": [
            "섭씨 온도 데이터 :  [25.6, 27.8, 30.5, 22.3, 28.9, 31.2, 24.7]\n",
            "화씨 온도로 변환 :  [78.08, 82.04, 86.9, 72.14, 84.02, 88.16, 76.46]\n"
          ]
        }
      ],
      "source": [
        "temperature_celsius = [25.6, 27.8, 30.5, 22.3, 28.9, 31.2, 24.7]\n",
        "celsius_to_fahrenheit = lambda c:(c * 9 / 5) + 32\n",
        "temperature_fahrenheit = list(map(celsius_to_fahrenheit, temperature_celsius))\n",
        "\n",
        "print('섭씨 온도 데이터 : ', temperature_celsius)\n",
        "print('화씨 온도로 변환 : ', temperature_fahrenheit)"
      ]
    },
    {
      "cell_type": "markdown",
      "source": [
        "### 코드 2-46 : map 함수 사용 예(2)"
      ],
      "metadata": {
        "id": "bWGLP8RWYIgH"
      }
    },
    {
      "cell_type": "code",
      "source": [
        "words = ['python', 'data',]"
      ],
      "metadata": {
        "id": "reILctqxYQz0"
      },
      "execution_count": null,
      "outputs": []
    }
  ]
}